{
 "cells": [
  {
   "cell_type": "code",
   "execution_count": 2,
   "metadata": {},
   "outputs": [
    {
     "name": "stderr",
     "output_type": "stream",
     "text": [
      "/home/lab530/anaconda3/envs/KenYuGAC/lib/python3.7/site-packages/tqdm/auto.py:22: TqdmWarning: IProgress not found. Please update jupyter and ipywidgets. See https://ipywidgets.readthedocs.io/en/stable/user_install.html\n",
      "  from .autonotebook import tqdm as notebook_tqdm\n"
     ]
    }
   ],
   "source": [
    "import sys\n",
    "sys.path.insert(0, \"/home/lab530/KenYu/ml_toolkit/kitti/\")\n",
    "\n",
    "from math import sqrt\n",
    "import os\n",
    "import glob\n",
    "import numpy as np\n",
    "from collections import namedtuple\n",
    "from util_kitti import load_tf_image\n",
    "from util_kitti import init_img_plt, draw_2Dbox, kitti_label_file_parser, draw_birdeyes, kitti_calib_file_parser\n",
    "import random \n",
    "import matplotlib.pyplot as plt \n",
    "from matplotlib.path import Path\n",
    "import matplotlib.patches as patches\n",
    "from matplotlib.patches import PathPatch\n",
    "\n",
    "CALIB_PATH = \"/home/lab530/KenYu/kitti/training/calib/\"\n",
    "# Input : Label and Prediction in standard format\n",
    "# Output : Graph, picture, data......\n",
    "\n",
    "INPUT_LABEL = \"/home/lab530/KenYu/kitti/training/label_2/\"\n",
    "\n",
    "\n",
    "NUM_IMAGE_SHOW = 3\n",
    "\n",
    "# images files \n",
    "IMG_DIR = \"/home/lab530/KenYu/kitti/training/image_2/\"\n",
    "# Anotations files \n",
    "ANO_DIR = \"/home/lab530/KenYu/kitti/training/label_2/\"\n",
    "# \n",
    "CAR_DIR = \"/home/lab530/KenYu/kitti/training/calib/\"\n",
    "\n",
    "random.seed(123)\n",
    "img_names = [i.split('.')[0] for i in os.listdir(ANO_DIR)]\n",
    "\n",
    "random.shuffle(img_names)\n",
    "\n",
    "chose_name = img_names[:NUM_IMAGE_SHOW]\n",
    "\n",
    "# chose_name = ['003308', '000712', '007360', '003993', '001718', '000039', '006050', '000249', '005191', '000631', '006090']\n",
    "# chose_name = ['007008', '003870', '004934', '007166', '001789', '007407', '006831', '001303', '006655', '006733', '003378', '005833', '003651']\n",
    "\n"
   ]
  },
  {
   "cell_type": "code",
   "execution_count": 3,
   "metadata": {},
   "outputs": [
    {
     "ename": "ModuleNotFoundError",
     "evalue": "No module named 'visualDet3D'",
     "output_type": "error",
     "traceback": [
      "\u001b[0;31m---------------------------------------------------------------------------\u001b[0m",
      "\u001b[0;31mModuleNotFoundError\u001b[0m                       Traceback (most recent call last)",
      "\u001b[0;32m/tmp/ipykernel_5870/363506945.py\u001b[0m in \u001b[0;36m<module>\u001b[0;34m\u001b[0m\n\u001b[0;32m----> 1\u001b[0;31m \u001b[0;32mfrom\u001b[0m \u001b[0mstereo_augmentator\u001b[0m \u001b[0;32mimport\u001b[0m \u001b[0;34m*\u001b[0m\u001b[0;34m\u001b[0m\u001b[0;34m\u001b[0m\u001b[0m\n\u001b[0m\u001b[1;32m      2\u001b[0m \u001b[0;34m\u001b[0m\u001b[0m\n\u001b[1;32m      3\u001b[0m \u001b[0;31m# Transform image\u001b[0m\u001b[0;34m\u001b[0m\u001b[0;34m\u001b[0m\u001b[0;34m\u001b[0m\u001b[0m\n\u001b[1;32m      4\u001b[0m \u001b[0mchose_img\u001b[0m \u001b[0;34m=\u001b[0m \u001b[0;34m[\u001b[0m\u001b[0;34m]\u001b[0m\u001b[0;34m\u001b[0m\u001b[0;34m\u001b[0m\u001b[0m\n\u001b[1;32m      5\u001b[0m \u001b[0mchose_P2\u001b[0m  \u001b[0;34m=\u001b[0m \u001b[0;34m[\u001b[0m\u001b[0;34m]\u001b[0m\u001b[0;34m\u001b[0m\u001b[0;34m\u001b[0m\u001b[0m\n",
      "\u001b[0;32m~/KenYu/visualDet3D/visualDet3D/data/pipeline/stereo_augmentator.py\u001b[0m in \u001b[0;36m<module>\u001b[0;34m\u001b[0m\n\u001b[1;32m     20\u001b[0m \u001b[0;32mfrom\u001b[0m \u001b[0mtyping\u001b[0m \u001b[0;32mimport\u001b[0m \u001b[0mList\u001b[0m\u001b[0;34m\u001b[0m\u001b[0;34m\u001b[0m\u001b[0m\n\u001b[1;32m     21\u001b[0m \u001b[0;31m# from matplotlib import pyplot as plt\u001b[0m\u001b[0;34m\u001b[0m\u001b[0;34m\u001b[0m\u001b[0;34m\u001b[0m\u001b[0m\n\u001b[0;32m---> 22\u001b[0;31m \u001b[0;32mfrom\u001b[0m \u001b[0mvisualDet3D\u001b[0m\u001b[0;34m.\u001b[0m\u001b[0mnetworks\u001b[0m\u001b[0;34m.\u001b[0m\u001b[0mutils\u001b[0m\u001b[0;34m.\u001b[0m\u001b[0mutils\u001b[0m \u001b[0;32mimport\u001b[0m \u001b[0mBBox3dProjector\u001b[0m\u001b[0;34m\u001b[0m\u001b[0;34m\u001b[0m\u001b[0m\n\u001b[0m\u001b[1;32m     23\u001b[0m \u001b[0;32mfrom\u001b[0m \u001b[0mvisualDet3D\u001b[0m\u001b[0;34m.\u001b[0m\u001b[0mutils\u001b[0m\u001b[0;34m.\u001b[0m\u001b[0mutils\u001b[0m \u001b[0;32mimport\u001b[0m \u001b[0mdraw_3D_box\u001b[0m\u001b[0;34m,\u001b[0m \u001b[0mtheta2alpha_3d\u001b[0m\u001b[0;34m\u001b[0m\u001b[0;34m\u001b[0m\u001b[0m\n\u001b[1;32m     24\u001b[0m \u001b[0;32mfrom\u001b[0m \u001b[0mvisualDet3D\u001b[0m\u001b[0;34m.\u001b[0m\u001b[0mnetworks\u001b[0m\u001b[0;34m.\u001b[0m\u001b[0mutils\u001b[0m\u001b[0;34m.\u001b[0m\u001b[0mregistry\u001b[0m \u001b[0;32mimport\u001b[0m \u001b[0mAUGMENTATION_DICT\u001b[0m\u001b[0;34m\u001b[0m\u001b[0;34m\u001b[0m\u001b[0m\n",
      "\u001b[0;31mModuleNotFoundError\u001b[0m: No module named 'visualDet3D'"
     ]
    }
   ],
   "source": [
    "\n",
    "from stereo_augmentator import *\n",
    "\n",
    "# Transform image \n",
    "chose_img = []\n",
    "chose_P2  = []\n",
    "for name in chose_name:\n",
    "    P2 = kitti_calib_file_parser(os.path.join(CAR_DIR, f\"{name}.txt\"), new_shape_tf = (288, 1280), crop_tf = 100)\n",
    "    img = load_tf_image(os.path.join(IMG_DIR, f\"{name}.png\"))\n",
    "    \n",
    "    chose_P2.append(P2)\n",
    "    chose_img.append(img)\n",
    "\n",
    "axs = init_img_plt(chose_img, titles = chose_name)\n",
    "\n",
    "for i, img_name in enumerate(chose_name):\n",
    "    \n",
    "    # \n",
    "    objs = kitti_label_file_parser(os.path.join(ANO_DIR, f\"{img_name}.txt\"), tf_matrix = chose_P2[i])\n",
    "\n",
    "    # Transform 2D bounding to by P2\n",
    "    [obj.transform_2d_bbox() for obj in objs]\n",
    "    \n",
    "    # Filter Non-car Objs\n",
    "    objs = [obj for obj in objs if obj.category == \"Car\"]\n",
    "    \n",
    "    for i_obj in range(len(objs)):\n",
    "        \n",
    "        color = [random.uniform(0.5, 1) for _ in range(3)]\n",
    "        \n",
    "        # # Generate random hue values between 0 and 1\n",
    "        # hues = np.random.rand(1)\n",
    "\n",
    "        # # Set saturation and brightness to maximum values (1)\n",
    "        # s = 1\n",
    "        # v = 0.8\n",
    "\n",
    "        # # Create an array of colors in HSV format\n",
    "        # colors_hsv = np.column_stack((hues, s * np.ones_like(hues), v * np.ones_like(hues)))\n",
    "\n",
    "        # # Convert the HSV colors to RGB colors\n",
    "        # color = hsv_to_rgb(colors_hsv) [0]\n",
    "        \n",
    "        # Draw bbox\n",
    "        draw_2Dbox   (axs[i][0], (objs[i_obj].xmin, objs[i_obj].ymin, objs[i_obj].xmax, objs[i_obj].ymax), color = color)\n",
    "        draw_birdeyes(axs[i][1], objs[i_obj], color = color, title = \"123\", is_print_confident = False)\n",
    "    "
   ]
  }
 ],
 "metadata": {
  "kernelspec": {
   "display_name": "KenYuGAC",
   "language": "python",
   "name": "python3"
  },
  "language_info": {
   "codemirror_mode": {
    "name": "ipython",
    "version": 3
   },
   "file_extension": ".py",
   "mimetype": "text/x-python",
   "name": "python",
   "nbconvert_exporter": "python",
   "pygments_lexer": "ipython3",
   "version": "3.7.13"
  },
  "orig_nbformat": 4
 },
 "nbformat": 4,
 "nbformat_minor": 2
}
